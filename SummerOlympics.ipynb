{
  "nbformat": 4,
  "nbformat_minor": 0,
  "metadata": {
    "colab": {
      "name": "SummerOlympics.ipynb",
      "provenance": [],
      "collapsed_sections": [],
      "authorship_tag": "ABX9TyOFK1/REip2U/sP0dtXx5s2",
      "include_colab_link": true
    },
    "kernelspec": {
      "name": "python3",
      "display_name": "Python 3"
    },
    "language_info": {
      "name": "python"
    }
  },
  "cells": [
    {
      "cell_type": "markdown",
      "metadata": {
        "id": "view-in-github",
        "colab_type": "text"
      },
      "source": [
        "<a href=\"https://colab.research.google.com/github/melphin03012002/ETG-Summer_Olympics_Assignment/blob/main/SummerOlympics.ipynb\" target=\"_parent\"><img src=\"https://colab.research.google.com/assets/colab-badge.svg\" alt=\"Open In Colab\"/></a>"
      ]
    },
    {
      "cell_type": "markdown",
      "metadata": {
        "id": "uP_sp1Wlboqc"
      },
      "source": [
        "## **SUMMER** **OLYMPICS** **DATA** **ANALYSIS** **ASSIGNMENT**"
      ]
    },
    {
      "cell_type": "code",
      "metadata": {
        "id": "pXuK1E1GcJ0O"
      },
      "source": [
        "import pandas as pd\n",
        "import numpy as np\n",
        "import matplotlib.pyplot as plt"
      ],
      "execution_count": 1,
      "outputs": []
    },
    {
      "cell_type": "code",
      "metadata": {
        "colab": {
          "base_uri": "https://localhost:8080/"
        },
        "id": "9O0h8Y0Tk3kH",
        "outputId": "738267f7-ffe5-459f-cd2a-7c71375ec129"
      },
      "source": [
        "\n",
        "df=pd.read_csv('summer.csv',encoding='latin-1')\n",
        "print(df.head())\n"
      ],
      "execution_count": 19,
      "outputs": [
        {
          "output_type": "stream",
          "name": "stdout",
          "text": [
            "   Year    City     Sport  ... Gender                       Event   Medal\n",
            "0  1896  Athens  Aquatics  ...    Men              100M Freestyle    Gold\n",
            "1  1896  Athens  Aquatics  ...    Men              100M Freestyle  Silver\n",
            "2  1896  Athens  Aquatics  ...    Men  100M Freestyle For Sailors  Bronze\n",
            "3  1896  Athens  Aquatics  ...    Men  100M Freestyle For Sailors    Gold\n",
            "4  1896  Athens  Aquatics  ...    Men  100M Freestyle For Sailors  Silver\n",
            "\n",
            "[5 rows x 9 columns]\n"
          ]
        }
      ]
    },
    {
      "cell_type": "markdown",
      "metadata": {
        "id": "8t3HPYSJeSRQ"
      },
      "source": [
        "**1.In how many cities Summer Olympics is held so far?**"
      ]
    },
    {
      "cell_type": "code",
      "metadata": {
        "colab": {
          "base_uri": "https://localhost:8080/"
        },
        "id": "7NPlOt8Fi2CA",
        "outputId": "c6f4d290-5df0-438d-d13a-d4733995eb41"
      },
      "source": [
        "len(df[\"City\"].unique())"
      ],
      "execution_count": 20,
      "outputs": [
        {
          "output_type": "execute_result",
          "data": {
            "text/plain": [
              "22"
            ]
          },
          "metadata": {},
          "execution_count": 20
        }
      ]
    },
    {
      "cell_type": "markdown",
      "metadata": {
        "id": "fyArI6nsqq7B"
      },
      "source": [
        "**2. Which sport is having most number of Gold Medals so far? (Top 5)**"
      ]
    },
    {
      "cell_type": "code",
      "metadata": {
        "colab": {
          "base_uri": "https://localhost:8080/",
          "height": 399
        },
        "id": "sSAWHLdinWpt",
        "outputId": "d3e07002-bb4a-4e71-d737-4b40ffe6d8dd"
      },
      "source": [
        "data = []\n",
        "\n",
        "for Sport in df['Sport'].unique():\n",
        "    data.append([Sport , len(df[df['Sport']  == Sport])])\n",
        "\n",
        "gold=df[df['Medal']=='Gold']\n",
        "gold['Sport'].value_counts()\n",
        "\n",
        "pd.DataFrame(data,columns = ['Sport','gold']).sort_values(by='gold', ascending=False).head().plot(x = 'Sport', \n",
        "                                                                                                  y = 'gold', kind = 'bar', figsize = (5,5))"
      ],
      "execution_count": 22,
      "outputs": [
        {
          "output_type": "execute_result",
          "data": {
            "text/plain": [
              "<matplotlib.axes._subplots.AxesSubplot at 0x7fb9479a5710>"
            ]
          },
          "metadata": {},
          "execution_count": 22
        },
        {
          "output_type": "display_data",
          "data": {
            "image/png": "[encoded data removed]",
            "text/plain": [
              "<Figure size 360x360 with 1 Axes>"
            ]
          },
          "metadata": {
            "needs_background": "light"
          }
        }
      ]
    },
    {
      "cell_type": "markdown",
      "metadata": {
        "id": "T4Vgsg3HrACI"
      },
      "source": [
        "\n",
        "**3. Which sport is having most number of medals so far? (Top 5)**"
      ]
    },
    {
      "cell_type": "code",
      "metadata": {
        "colab": {
          "base_uri": "https://localhost:8080/",
          "height": 1000
        },
        "id": "ybCQSiPFrK9B",
        "outputId": "67b4826b-66a7-4b21-cd25-ef5b804fad8a"
      },
      "source": [
        "most_medals = df.groupby('Sport').count()['Medal']\n",
        "print(\"Sports having Total no. of Medals they have won is as follows :\")\n",
        "most = most_medals.sort_values(ascending = False)\n",
        "print(most)\n",
        "print(\" 'Aquatics' Sport is having most no. Medals so far.\")\n",
        "print(\"Top 5 Sports having most no. Medals are :\\n \\n1] Aquatics   - 4170 \\n2] Athletics  - 3638  \\n3] Rowing     - 2667 \\n4] Gymnastics - 2307 \\n5] Fencing    - 1613\")\n",
        "print(\"Plot of Top 5 Sports having most no. of Medals is as Follows:\")\n",
        "mosts = most_medals.sort_values(ascending = False).head()\n",
        "mosts.plot.bar(figsize =(10,5),color = 'pink')"
      ],
      "execution_count": 24,
      "outputs": [
        {
          "output_type": "stream",
          "name": "stdout",
          "text": [
            "Sports having Total no. of Medals they have won is as follows :\n",
            "Sport\n",
            "Aquatics             4170\n",
            "Athletics            3638\n",
            "Rowing               2667\n",
            "Gymnastics           2307\n",
            "Fencing              1613\n",
            "Football             1497\n",
            "Hockey               1422\n",
            "Wrestling            1212\n",
            "Shooting             1150\n",
            "Sailing              1109\n",
            "Cycling              1105\n",
            "Basketball           1012\n",
            "Canoe / Kayak        1002\n",
            "Volleyball            994\n",
            "Handball              973\n",
            "Equestrian            939\n",
            "Boxing                894\n",
            "Weightlifting         593\n",
            "Judo                  491\n",
            "Baseball              335\n",
            "Archery               329\n",
            "Tennis                296\n",
            "Rugby                 192\n",
            "Modern Pentathlon     180\n",
            "Softball              180\n",
            "Table Tennis          144\n",
            "Badminton             144\n",
            "Taekwondo             112\n",
            "Tug of War             94\n",
            "Canoe                  81\n",
            "Polo                   66\n",
            "Lacrosse               59\n",
            "Golf                   30\n",
            "Ice Hockey             27\n",
            "Skating                27\n",
            "Triathlon              24\n",
            "Cricket                24\n",
            "Rackets                10\n",
            "Croquet                 8\n",
            "Water Motorsports       5\n",
            "Basque Pelota           4\n",
            "Roque                   3\n",
            "Jeu de paume            3\n",
            "Name: Medal, dtype: int64\n",
            " 'Aquatics' Sport is having most no. Medals so far.\n",
            "Top 5 Sports having most no. Medals are :\n",
            " \n",
            "1] Aquatics   - 4170 \n",
            "2] Athletics  - 3638  \n",
            "3] Rowing     - 2667 \n",
            "4] Gymnastics - 2307 \n",
            "5] Fencing    - 1613\n",
            "Plot of Top 5 Sports having most no. of Medals is as Follows:\n"
          ]
        },
        {
          "output_type": "execute_result",
          "data": {
            "text/plain": [
              "<matplotlib.axes._subplots.AxesSubplot at 0x7fb946f8fc50>"
            ]
          },
          "metadata": {},
          "execution_count": 24
        },
        {
          "output_type": "display_data",
          "data": {
            "image/png": "[encoded data removed]",
            "text/plain": [
              "<Figure size 720x360 with 1 Axes>"
            ]
          },
          "metadata": {
            "needs_background": "light"
          }
        }
      ]
    },
    {
      "cell_type": "markdown",
      "metadata": {
        "id": "5msBCEIHr0Zs"
      },
      "source": [
        "**4. Which player has won most number of medals? (Top 5)**"
      ]
    },
    {
      "cell_type": "code",
      "metadata": {
        "colab": {
          "base_uri": "https://localhost:8080/",
          "height": 995
        },
        "id": "3eg5d_OnsF_R",
        "outputId": "8ecb7f1b-47f1-4aeb-c5e9-26644575be02"
      },
      "source": [
        "player_medals = df.groupby('Athlete').count()['Medal']\n",
        "print(\"Athletes having Total no. of Medals they have won is as follows :\")\n",
        "all_medals = player_medals.sort_values(ascending = False).head(20)            \n",
        "print(all_medals)\n",
        "print(\" 'PHELPS, Michael' Player has won most no. of Medals - '22' \")\n",
        "print(\"Top 5 Athletes having most no. Medals are :\\n \\n1] PHELPS, Michael      - 22 \\n2] LATYNINA, Larisa     - 18  \\n3] ANDRIANOV, Nikolay   - 15 \\n4] MANGIAROTTI, Edoardo - 13 \\n5] SHAKHLIN, Boris      - 13\")\n",
        "print(\"Plot of Top 5 Athletes having most no. of Medals is as Follows:\")\n",
        "mostss = player_medals.sort_values(ascending = False).head()\n",
        "mostss.plot.bar(figsize =(10,5),color = 'skyblue')"
      ],
      "execution_count": 27,
      "outputs": [
        {
          "output_type": "stream",
          "name": "stdout",
          "text": [
            "Athletes having Total no. of Medals they have won is as follows :\n",
            "Athlete\n",
            "PHELPS, Michael               22\n",
            "LATYNINA, Larisa              18\n",
            "ANDRIANOV, Nikolay            15\n",
            "MANGIAROTTI, Edoardo          13\n",
            "SHAKHLIN, Boris               13\n",
            "ONO, Takashi                  13\n",
            "FISCHER, Birgit               12\n",
            "COUGHLIN, Natalie             12\n",
            "NEMOV, Alexei                 12\n",
            "TORRES, Dara                  12\n",
            "THOMPSON, Jenny               12\n",
            "KATO, Sawao                   12\n",
            "NURMI, Paavo                  12\n",
            "CASLAVSKA, Vera               11\n",
            "OSBURN, Carl Townsend         11\n",
            "LOCHTE, Ryan                  11\n",
            "SPITZ, Mark                   11\n",
            "CHUKARIN, Viktor Ivanovich    11\n",
            "BIONDI, Matthew               11\n",
            "KELETI, Agnes                 10\n",
            "Name: Medal, dtype: int64\n",
            " 'PHELPS, Michael' Player has won most no. of Medals - '22' \n",
            "Top 5 Athletes having most no. Medals are :\n",
            " \n",
            "1] PHELPS, Michael      - 22 \n",
            "2] LATYNINA, Larisa     - 18  \n",
            "3] ANDRIANOV, Nikolay   - 15 \n",
            "4] MANGIAROTTI, Edoardo - 13 \n",
            "5] SHAKHLIN, Boris      - 13\n",
            "Plot of Top 5 Athletes having most no. of Medals is as Follows:\n"
          ]
        },
        {
          "output_type": "execute_result",
          "data": {
            "text/plain": [
              "<matplotlib.axes._subplots.AxesSubplot at 0x7fb946cf9bd0>"
            ]
          },
          "metadata": {},
          "execution_count": 27
        },
        {
          "output_type": "display_data",
          "data": {
            "image/png": "[encoded data removed]",
            "text/plain": [
              "<Figure size 720x360 with 1 Axes>"
            ]
          },
          "metadata": {
            "needs_background": "light"
          }
        }
      ]
    },
    {
      "cell_type": "markdown",
      "metadata": {
        "id": "xodloJLbs9-Q"
      },
      "source": [
        "**5. Which player has won most number Gold Medals of medals?**"
      ]
    },
    {
      "cell_type": "code",
      "metadata": {
        "colab": {
          "base_uri": "https://localhost:8080/",
          "height": 963
        },
        "id": "SWBasYHusjvC",
        "outputId": "2191d5bb-ef89-4545-bc71-b8776cfdfea5"
      },
      "source": [
        "gold_medal = df[df['Medal'] == 'Gold']\n",
        "player_medals = gold_medal.groupby('Athlete').count()['Medal']\n",
        "print(\"Athletes having Total no. of Gold Medals they have won is as follows :\")\n",
        "all_medals = player_medals.sort_values(ascending = False).head(20)              \n",
        "print(all_medals)\n",
        "print(\" 'PHELPS, Michael' Player has won most no. of Gold Medals - '18' \")\n",
        "print(\"Top 5 Athletes having most no. Gold Medals are :\\n \\n1] PHELPS, Michael  - 18 \\n2] NURMI, Paavo     - 9  \\n3] SPITZ, Mark      - 9 \\n4] LEWIS, Carl      - 9 \\n5] LATYNINA, Larisa - 9\")\n",
        "print(\"Plot of Top 5 Athletes having most no. of Gold Medals is as Follows:\")\n",
        "mostss = player_medals.sort_values(ascending = False).head()\n",
        "mostss.plot.bar(figsize =(10,5),color = 'gold')"
      ],
      "execution_count": 28,
      "outputs": [
        {
          "output_type": "stream",
          "name": "stdout",
          "text": [
            "Athletes having Total no. of Gold Medals they have won is as follows :\n",
            "Athlete\n",
            "PHELPS, Michael               18\n",
            "NURMI, Paavo                   9\n",
            "SPITZ, Mark                    9\n",
            "LEWIS, Carl                    9\n",
            "LATYNINA, Larisa               9\n",
            "FISCHER, Birgit                8\n",
            "BIONDI, Matthew                8\n",
            "THOMPSON, Jenny                8\n",
            "EWRY, Ray                      8\n",
            "KATO, Sawao                    8\n",
            "ANDRIANOV, Nikolay             7\n",
            "SHAKHLIN, Boris                7\n",
            "CHUKARIN, Viktor Ivanovich     7\n",
            "CASLAVSKA, Vera                7\n",
            "GEREVICH, Aladar               7\n",
            "KARPATI, Rudolf                6\n",
            "NADI, Nedo                     6\n",
            "HOY, Chris                     6\n",
            "VAN INNIS, Hubert              6\n",
            "MANGIAROTTI, Edoardo           6\n",
            "Name: Medal, dtype: int64\n",
            " 'PHELPS, Michael' Player has won most no. of Gold Medals - '18' \n",
            "Top 5 Athletes having most no. Gold Medals are :\n",
            " \n",
            "1] PHELPS, Michael  - 18 \n",
            "2] NURMI, Paavo     - 9  \n",
            "3] SPITZ, Mark      - 9 \n",
            "4] LEWIS, Carl      - 9 \n",
            "5] LATYNINA, Larisa - 9\n",
            "Plot of Top 5 Athletes having most no. of Gold Medals is as Follows:\n"
          ]
        },
        {
          "output_type": "execute_result",
          "data": {
            "text/plain": [
              "<matplotlib.axes._subplots.AxesSubplot at 0x7fb9475f1ad0>"
            ]
          },
          "metadata": {},
          "execution_count": 28
        },
        {
          "output_type": "display_data",
          "data": {
            "image/png": "[encoded data removed]",
            "text/plain": [
              "<Figure size 720x360 with 1 Axes>"
            ]
          },
          "metadata": {
            "needs_background": "light"
          }
        }
      ]
    },
    {
      "cell_type": "markdown",
      "metadata": {
        "id": "BCSaciZztuOI"
      },
      "source": [
        "**6. In which year India won first Gold Medal in Summer Olympics?**"
      ]
    },
    {
      "cell_type": "code",
      "metadata": {
        "colab": {
          "base_uri": "https://localhost:8080/"
        },
        "id": "juD9l-FJtwMU",
        "outputId": "7d01ecac-daf8-48b9-d69e-de98ea48efc4"
      },
      "source": [
        "Years = []\n",
        "gold_medal = df[df['Medal'] == 'Gold']\n",
        "Ind_yr = gold_medal[gold_medal['Country'] =='IND']\n",
        "Years.append(Ind_yr['Year'].unique())\n",
        "print(\"Years in which India won Gold Medal:\")\n",
        "print(Years)\n",
        "India_yr = gold_medal[gold_medal['Country'] =='IND']['Year'].min()\n",
        "Ind_year = str(India_yr)\n",
        "print(\"In \"+ '\"' + Ind_year + '\"' + \" India won First Gold Medal in Summer Olympics\")"
      ],
      "execution_count": 30,
      "outputs": [
        {
          "output_type": "stream",
          "name": "stdout",
          "text": [
            "Years in which India won Gold Medal:\n",
            "[array([1928, 1932, 1936, 1948, 1952, 1956, 1964, 1980, 2008])]\n",
            "In \"1928\" India won First Gold Medal in Summer Olympics\n"
          ]
        }
      ]
    },
    {
      "cell_type": "markdown",
      "metadata": {
        "id": "WQbdwssluR1f"
      },
      "source": [
        "**7. Which event is most popular in terms on number of players? (Top 5)**"
      ]
    },
    {
      "cell_type": "code",
      "metadata": {
        "colab": {
          "base_uri": "https://localhost:8080/",
          "height": 952
        },
        "id": "YccgSBAGuWo4",
        "outputId": "aff20768-3ce9-4948-ff57-5e29ffeaefb4"
      },
      "source": [
        "data = []\n",
        "for events in df['Event'].unique():\n",
        "  data.append([events,len(df[df['Event'] == events])])\n",
        "data = pd.DataFrame(data,columns = [\"Event\",\"No_of_players\"])\n",
        "data = data.sort_values(by = \"No_of_players\",ascending = False).head(20)        \n",
        "print(\"Athletes having Total no. of Gold Medals they have won is as follows :\")\n",
        "print(data)\n",
        "print(\" 'FOOTBALL' Event is most popular in terms of No. of Players - '1497' \")\n",
        "print(\"Top 5 most Popular Events are :\\n \\n1] Football         - 1497 \\n2] Hockey           - 1422  \\n3] Team Competition - 1147 \\n4] Basketball       - 1012 \\n5] Handball         - 973\")\n",
        "print(\"Plot of Top 5 most Popular Events are as Follows:\")\n",
        "data = data.sort_values(by = \"No_of_players\",ascending = False).head(5)\n",
        "data.plot(x ='Event',y ='No_of_players',kind = 'bar',figsize =(10,5),color = 'silver')"
      ],
      "execution_count": 31,
      "outputs": [
        {
          "output_type": "stream",
          "name": "stdout",
          "text": [
            "Athletes having Total no. of Gold Medals they have won is as follows :\n",
            "                                   Event  No_of_players\n",
            "80                              Football           1497\n",
            "176                               Hockey           1422\n",
            "138                     Team Competition           1147\n",
            "327                           Basketball           1012\n",
            "337                             Handball            973\n",
            "50                            Water Polo            958\n",
            "391                           Volleyball            934\n",
            "83              Eight With Coxswain (8+)            918\n",
            "134                                 Team            908\n",
            "213                         4X100M Relay            533\n",
            "132                            Foil Team            505\n",
            "160                         4X400M Relay            451\n",
            "209               4X100M Freestyle Relay            438\n",
            "381                  4X100M Medley Relay            387\n",
            "174                            Épée Team            385\n",
            "175                           Sabre Team            382\n",
            "152               4X200M Freestyle Relay            380\n",
            "84   Four-Oared Shell With Coxswain (4-)            359\n",
            "466                             Baseball            335\n",
            "74                            Individual            324\n",
            " 'FOOTBALL' Event is most popular in terms of No. of Players - '1497' \n",
            "Top 5 most Popular Events are :\n",
            " \n",
            "1] Football         - 1497 \n",
            "2] Hockey           - 1422  \n",
            "3] Team Competition - 1147 \n",
            "4] Basketball       - 1012 \n",
            "5] Handball         - 973\n",
            "Plot of Top 5 most Popular Events are as Follows:\n"
          ]
        },
        {
          "output_type": "execute_result",
          "data": {
            "text/plain": [
              "<matplotlib.axes._subplots.AxesSubplot at 0x7fb946c37490>"
            ]
          },
          "metadata": {},
          "execution_count": 31
        },
        {
          "output_type": "display_data",
          "data": {
            "image/png": "[encoded data removed]",
            "text/plain": [
              "<Figure size 720x360 with 1 Axes>"
            ]
          },
          "metadata": {
            "needs_background": "light"
          }
        }
      ]
    },
    {
      "cell_type": "markdown",
      "metadata": {
        "id": "h9HWZm4su7mt"
      },
      "source": [
        "**8. Which sport is having most female Gold Medalists? (Top 5)**"
      ]
    },
    {
      "cell_type": "code",
      "metadata": {
        "colab": {
          "base_uri": "https://localhost:8080/",
          "height": 920
        },
        "id": "iCWe9y75u8MM",
        "outputId": "8938fb33-2c24-42fe-b7a2-682e4e172c42"
      },
      "source": [
        "gold_medal = df[df['Medal'] == 'Gold']\n",
        "Female_Gold = gold_medal[gold_medal['Gender'] == 'Women']\n",
        "data = []\n",
        "for fem in Female_Gold['Sport'].unique():\n",
        "  data.append([fem, len(Female_Gold[Female_Gold['Sport'] == fem])])\n",
        "data = pd.DataFrame(data,columns = [\"Sport\",\"Female_Gold_Medalists\"])\n",
        "data = data.sort_values(by = \"Female_Gold_Medalists\",ascending = False).head(20)  \n",
        "print(\"Sports having most No. of Female Gold Medalists are as follows :\")\n",
        "print(data)\n",
        "print(\" 'Aquatics' Sport is having most no. of Female Gold Medalists - '589' \")\n",
        "print(\"Top 5 Sports have most Female Gold Medalists are :\\n \\n1] Aquatics   - 589 \\n2] Athletics  - 389 \\n3] Gymnastics - 268 \\n4] Rowing     - 217 \\n5] Volleyball - 166\")\n",
        "print(\"Plot of Top 5 Sports having most no. of Female Gold Medalists are as Follows:\")\n",
        "data = data.sort_values(by = \"Female_Gold_Medalists\",ascending = False).head(5)\n",
        "data.plot(x ='Sport',y ='Female_Gold_Medalists',kind = 'bar',figsize =(10,5),color = 'purple')"
      ],
      "execution_count": 32,
      "outputs": [
        {
          "output_type": "stream",
          "name": "stdout",
          "text": [
            "Sports having most No. of Female Gold Medalists are as follows :\n",
            "            Sport  Female_Gold_Medalists\n",
            "4        Aquatics                    589\n",
            "7       Athletics                    389\n",
            "8      Gymnastics                    268\n",
            "14         Rowing                    217\n",
            "11     Volleyball                    166\n",
            "15         Hockey                    144\n",
            "13       Handball                    142\n",
            "12     Basketball                    120\n",
            "6         Fencing                    108\n",
            "21       Football                     86\n",
            "9   Canoe / Kayak                     76\n",
            "22       Softball                     60\n",
            "10     Equestrian                     51\n",
            "16        Cycling                     45\n",
            "17       Shooting                     43\n",
            "20           Judo                     42\n",
            "2         Archery                     39\n",
            "5         Sailing                     38\n",
            "1          Tennis                     38\n",
            "26  Weightlifting                     28\n",
            " 'Aquatics' Sport is having most no. of Female Gold Medalists - '589' \n",
            "Top 5 Sports have most Female Gold Medalists are :\n",
            " \n",
            "1] Aquatics   - 589 \n",
            "2] Athletics  - 389 \n",
            "3] Gymnastics - 268 \n",
            "4] Rowing     - 217 \n",
            "5] Volleyball - 166\n",
            "Plot of Top 5 Sports having most no. of Female Gold Medalists are as Follows:\n"
          ]
        },
        {
          "output_type": "execute_result",
          "data": {
            "text/plain": [
              "<matplotlib.axes._subplots.AxesSubplot at 0x7fb946c72590>"
            ]
          },
          "metadata": {},
          "execution_count": 32
        },
        {
          "output_type": "display_data",
          "data": {
            "image/png": "[encoded data removed]",
            "text/plain": [
              "<Figure size 720x360 with 1 Axes>"
            ]
          },
          "metadata": {
            "needs_background": "light"
          }
        }
      ]
    },
    {
      "cell_type": "code",
      "metadata": {
        "id": "-Kdd2pN1vQE9"
      },
      "source": [
        ""
      ],
      "execution_count": null,
      "outputs": []
    }
  ]
}